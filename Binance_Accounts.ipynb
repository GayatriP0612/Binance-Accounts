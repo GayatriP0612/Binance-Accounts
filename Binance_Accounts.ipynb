{
 "cells": [
  {
   "cell_type": "code",
   "execution_count": 1,
   "id": "2b86cf7e",
   "metadata": {},
   "outputs": [],
   "source": [
    "import pandas as pd\n",
    "import numpy as np\n",
    "from datetime import datetime\n",
    "import matplotlib.pyplot as plt"
   ]
  },
  {
   "cell_type": "code",
   "execution_count": 2,
   "id": "9e64ee0d",
   "metadata": {},
   "outputs": [],
   "source": [
    "df = pd.read_csv('TRADES_CopyTr_90D_ROI.csv')"
   ]
  },
  {
   "cell_type": "code",
   "execution_count": 3,
   "id": "3b2f8811",
   "metadata": {},
   "outputs": [
    {
     "data": {
      "text/html": [
       "<div>\n",
       "<style scoped>\n",
       "    .dataframe tbody tr th:only-of-type {\n",
       "        vertical-align: middle;\n",
       "    }\n",
       "\n",
       "    .dataframe tbody tr th {\n",
       "        vertical-align: top;\n",
       "    }\n",
       "\n",
       "    .dataframe thead th {\n",
       "        text-align: right;\n",
       "    }\n",
       "</style>\n",
       "<table border=\"1\" class=\"dataframe\">\n",
       "  <thead>\n",
       "    <tr style=\"text-align: right;\">\n",
       "      <th></th>\n",
       "      <th>Port_IDs</th>\n",
       "      <th>Trade_History</th>\n",
       "    </tr>\n",
       "  </thead>\n",
       "  <tbody>\n",
       "    <tr>\n",
       "      <th>0</th>\n",
       "      <td>3925368433214965504</td>\n",
       "      <td>[{'time': 1718899656000, 'symbol': 'SOLUSDT', ...</td>\n",
       "    </tr>\n",
       "    <tr>\n",
       "      <th>1</th>\n",
       "      <td>4002413037164645377</td>\n",
       "      <td>[{'time': 1718980078000, 'symbol': 'NEARUSDT',...</td>\n",
       "    </tr>\n",
       "    <tr>\n",
       "      <th>2</th>\n",
       "      <td>3923766029921022977</td>\n",
       "      <td>[{'time': 1718677164000, 'symbol': 'ETHUSDT', ...</td>\n",
       "    </tr>\n",
       "    <tr>\n",
       "      <th>3</th>\n",
       "      <td>3994879592543698688</td>\n",
       "      <td>[{'time': 1718678214000, 'symbol': 'ETHUSDT', ...</td>\n",
       "    </tr>\n",
       "    <tr>\n",
       "      <th>4</th>\n",
       "      <td>3926423286576838657</td>\n",
       "      <td>[{'time': 1718979615000, 'symbol': 'ETHUSDT', ...</td>\n",
       "    </tr>\n",
       "  </tbody>\n",
       "</table>\n",
       "</div>"
      ],
      "text/plain": [
       "              Port_IDs                                      Trade_History\n",
       "0  3925368433214965504  [{'time': 1718899656000, 'symbol': 'SOLUSDT', ...\n",
       "1  4002413037164645377  [{'time': 1718980078000, 'symbol': 'NEARUSDT',...\n",
       "2  3923766029921022977  [{'time': 1718677164000, 'symbol': 'ETHUSDT', ...\n",
       "3  3994879592543698688  [{'time': 1718678214000, 'symbol': 'ETHUSDT', ...\n",
       "4  3926423286576838657  [{'time': 1718979615000, 'symbol': 'ETHUSDT', ..."
      ]
     },
     "execution_count": 3,
     "metadata": {},
     "output_type": "execute_result"
    }
   ],
   "source": [
    "df.head()"
   ]
  },
  {
   "cell_type": "code",
   "execution_count": 4,
   "id": "95d3f9c2",
   "metadata": {},
   "outputs": [
    {
     "name": "stdout",
     "output_type": "stream",
     "text": [
      "<class 'pandas.core.frame.DataFrame'>\n",
      "RangeIndex: 150 entries, 0 to 149\n",
      "Data columns (total 2 columns):\n",
      " #   Column         Non-Null Count  Dtype \n",
      "---  ------         --------------  ----- \n",
      " 0   Port_IDs       150 non-null    int64 \n",
      " 1   Trade_History  149 non-null    object\n",
      "dtypes: int64(1), object(1)\n",
      "memory usage: 2.5+ KB\n"
     ]
    }
   ],
   "source": [
    "df.info()"
   ]
  },
  {
   "cell_type": "code",
   "execution_count": 5,
   "id": "95ec7c63",
   "metadata": {},
   "outputs": [
    {
     "data": {
      "text/plain": [
       "Port_IDs         0\n",
       "Trade_History    1\n",
       "dtype: int64"
      ]
     },
     "execution_count": 5,
     "metadata": {},
     "output_type": "execute_result"
    }
   ],
   "source": [
    "df.isnull().sum()"
   ]
  },
  {
   "cell_type": "code",
   "execution_count": 6,
   "id": "b37ffd51",
   "metadata": {},
   "outputs": [],
   "source": [
    "import json\n",
    "\n",
    "df['Trade_History'] = df['Trade_History'].fillna('')\n",
    "\n",
    "# Function to safely parse JSON\n",
    "def parse_json_safe(json_str):\n",
    "    try:\n",
    "        return json.loads(json_str)\n",
    "    except (json.JSONDecodeError, TypeError) as e:\n",
    "        return {}\n",
    "\n",
    "df['Trade_History'] = df['Trade_History'].apply(lambda x: parse_json_safe(x))"
   ]
  },
  {
   "cell_type": "code",
   "execution_count": 7,
   "id": "54b3a2ad",
   "metadata": {},
   "outputs": [],
   "source": [
    "# Function to calculate ROI (Return on Investment)\n",
    "def calculate_roi(trade):\n",
    "    if trade and 'realizedProfit' in trade:\n",
    "        if trade['realizedProfit'] > 0:\n",
    "            return trade['realizedProfit'] / trade['price']\n",
    "        elif trade['realizedProfit'] < 0:\n",
    "            return -1 * trade['price'] / trade['realizedProfit']\n",
    "    return 0\n",
    "\n",
    "df['ROI'] = df['Trade_History'].apply(lambda x: calculate_roi(x))"
   ]
  },
  {
   "cell_type": "code",
   "execution_count": 8,
   "id": "d777c9c2",
   "metadata": {},
   "outputs": [],
   "source": [
    "# Function to calculate Profit and Loss (PnL)\n",
    "def calculate_pnl(trade):\n",
    "    return trade['realizedProfit'] if trade and 'realizedProfit' in trade else 0\n",
    "\n",
    "df['PnL'] = df['Trade_History'].apply(lambda x: calculate_pnl(x))"
   ]
  },
  {
   "cell_type": "code",
   "execution_count": 9,
   "id": "7490710d",
   "metadata": {},
   "outputs": [],
   "source": [
    "# Function to calculate Win Rate and Win Positions\n",
    "def calculate_win_rate(trades):\n",
    "    total_trades = len(trades)\n",
    "    if total_trades == 0:\n",
    "        return 0, 0\n",
    "    profitable_trades = sum(trade['realizedProfit'] > 0 for trade in trades if 'realizedProfit' in trade)\n",
    "    win_rate = profitable_trades / total_trades\n",
    "    return win_rate, profitable_trades\n",
    "\n",
    "win_rates, win_positions = [], []\n",
    "for idx, row in df.iterrows():\n",
    "    trades = row['Trade_History']\n",
    "    win_rate, win_position = calculate_win_rate(trades)\n",
    "    win_rates.append(win_rate)\n",
    "    win_positions.append(win_position)\n",
    "\n",
    "df['Win_Rate'] = win_rates\n",
    "df['Win_Positions'] = win_positions"
   ]
  },
  {
   "cell_type": "code",
   "execution_count": 10,
   "id": "07fe5722",
   "metadata": {},
   "outputs": [],
   "source": [
    "df['Total_Positions'] = df['Trade_History'].apply(len)\n",
    "\n",
    "# Rank accounts based on calculated metrics\n",
    "df_grouped = df.groupby('Port_IDs').agg({\n",
    "    'ROI': 'sum',\n",
    "    'PnL': 'sum',\n",
    "    'Win_Rate': 'mean',\n",
    "    'Win_Positions': 'sum',\n",
    "    'Total_Positions': 'sum'\n",
    "}).reset_index()"
   ]
  },
  {
   "cell_type": "code",
   "execution_count": 11,
   "id": "4e7895b6",
   "metadata": {},
   "outputs": [],
   "source": [
    "# Define weights for scoring\n",
    "weights = {\n",
    "    'ROI': 0.3,\n",
    "    'PnL': 0.2,\n",
    "    'Win_Rate': 0.15,\n",
    "    'Win_Positions': 0.1,\n",
    "    'Total_Positions': 0.05\n",
    "}\n",
    "\n",
    "# Calculate scores\n",
    "df_grouped['Score'] = (df_grouped['ROI'] * weights['ROI'] +\n",
    "                       df_grouped['PnL'] * weights['PnL'] +\n",
    "                       df_grouped['Win_Rate'] * weights['Win_Rate'] +\n",
    "                       df_grouped['Win_Positions'] * weights['Win_Positions'] +\n",
    "                       df_grouped['Total_Positions'] * weights['Total_Positions'])"
   ]
  },
  {
   "cell_type": "code",
   "execution_count": 12,
   "id": "cbe71f14",
   "metadata": {},
   "outputs": [],
   "source": [
    "df_ranked = df_grouped.sort_values(by='Score', ascending=False).reset_index(drop=True)\n",
    "\n",
    "top_20_accounts = df_ranked.head(20)"
   ]
  },
  {
   "cell_type": "code",
   "execution_count": 13,
   "id": "f929aaf3",
   "metadata": {},
   "outputs": [
    {
     "name": "stdout",
     "output_type": "stream",
     "text": [
      "Top 20 Accounts:\n",
      "0     3672754654734989568\n",
      "1     4017263283405469185\n",
      "2     4019895412775450368\n",
      "3     4020204877254599680\n",
      "4     4021243448368889856\n",
      "5     4021669203289716224\n",
      "6     4022565861939831809\n",
      "7     4022641794255717633\n",
      "8     4023616625178799873\n",
      "9     4023697433751327232\n",
      "10    4023697881318718465\n",
      "11    4026179081117855488\n",
      "12    4027747397961573889\n",
      "13    4028427053699127040\n",
      "14    4028701921959171840\n",
      "15    4029299190618134272\n",
      "16    4029422834086627072\n",
      "17    4017323550554338817\n",
      "18    4017110277719148289\n",
      "19    4029507714735307777\n",
      "Name: Port_IDs, dtype: int64\n"
     ]
    }
   ],
   "source": [
    "# Export calculated metrics to CSV\n",
    "df_ranked.to_csv('financial_metrics.csv', index=False)\n",
    "\n",
    "print(\"Top 20 Accounts:\")\n",
    "print(top_20_accounts['Port_IDs'])"
   ]
  }
 ],
 "metadata": {
  "kernelspec": {
   "display_name": "Python 3 (ipykernel)",
   "language": "python",
   "name": "python3"
  },
  "language_info": {
   "codemirror_mode": {
    "name": "ipython",
    "version": 3
   },
   "file_extension": ".py",
   "mimetype": "text/x-python",
   "name": "python",
   "nbconvert_exporter": "python",
   "pygments_lexer": "ipython3",
   "version": "3.11.5"
  }
 },
 "nbformat": 4,
 "nbformat_minor": 5
}
